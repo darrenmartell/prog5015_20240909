{
 "cells": [
  {
   "cell_type": "code",
   "execution_count": 4,
   "id": "7097ad88-676d-423c-b0bb-5d14b5291ffb",
   "metadata": {},
   "outputs": [],
   "source": [
    "myName = 'Darren'\n",
    "myAge = 56\n",
    "myHeight = 71.5 # inches\n",
    "isStudent = True"
   ]
  },
  {
   "cell_type": "code",
   "execution_count": 9,
   "id": "09c24321-5901-4ef1-9f44-69262b92825a",
   "metadata": {},
   "outputs": [
    {
     "name": "stdout",
     "output_type": "stream",
     "text": [
      "myName type is:  <class 'str'>\n"
     ]
    }
   ],
   "source": [
    "print('myName type is: ', type(myName))"
   ]
  },
  {
   "cell_type": "code",
   "execution_count": null,
   "id": "f2af6074-f5c9-4a33-bf6c-75f6032d436b",
   "metadata": {},
   "outputs": [],
   "source": []
  }
 ],
 "metadata": {
  "kernelspec": {
   "display_name": "Python 3 (ipykernel)",
   "language": "python",
   "name": "python3"
  },
  "language_info": {
   "codemirror_mode": {
    "name": "ipython",
    "version": 3
   },
   "file_extension": ".py",
   "mimetype": "text/x-python",
   "name": "python",
   "nbconvert_exporter": "python",
   "pygments_lexer": "ipython3",
   "version": "3.12.5"
  }
 },
 "nbformat": 4,
 "nbformat_minor": 5
}
